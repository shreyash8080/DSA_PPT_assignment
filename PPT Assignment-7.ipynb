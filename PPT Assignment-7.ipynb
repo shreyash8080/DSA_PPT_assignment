{
 "cells": [
  {
   "cell_type": "code",
   "execution_count": 11,
   "id": "b6785a49-62b7-4940-bd8a-6e15bc1b4059",
   "metadata": {},
   "outputs": [
    {
     "name": "stdout",
     "output_type": "stream",
     "text": [
      "True\n",
      "False\n"
     ]
    }
   ],
   "source": [
    "\"\"\"\n",
    "Question 1\n",
    "Given two strings s and t, determine if they are isomorphic\n",
    "Two strings s and t are isomorphic if the characters in s can be replaced to get t.\n",
    "\n",
    "All occurrences of a character must be replaced with another character \n",
    "while preserving the order of characters. No two characters may map to the\n",
    "same character, but a character may map to itself.\n",
    "Example: 1\n",
    "Inpu s = \"egg\", t = \"add\"\n",
    "Outpu true\n",
    "\"\"\"\n",
    "\n",
    "def is_isomorphic(s, t):\n",
    "    if len(s) != len(t):  # Check if lengths are equal\n",
    "        return False\n",
    "    \n",
    "    char_map_s = {}  # Character mapping from s to t\n",
    "    char_map_t = {}  # Character mapping from t to s\n",
    "    \n",
    "    for char_s, char_t in zip(s, t):  # Iterate through characters in s and t\n",
    "        if char_s not in char_map_s and char_t not in char_map_t:\n",
    "            char_map_s[char_s] = char_t\n",
    "            char_map_t[char_t] = char_s\n",
    "        elif char_map_s.get(char_s) != char_t or char_map_t.get(char_t) != char_s:\n",
    "            return False\n",
    "    \n",
    "    return True\n",
    "\n",
    "# Example 1\n",
    "s = \"egg\"\n",
    "t = \"add\"\n",
    "print(is_isomorphic(s, t))\n",
    "\n",
    "# Example 2\n",
    "s = \"books\"\n",
    "t = \"title\"\n",
    "print(is_isomorphic(s, t))\n"
   ]
  },
  {
   "cell_type": "code",
   "execution_count": 16,
   "id": "bf320fa0-9aa0-4683-85d9-7d3a158c15fd",
   "metadata": {},
   "outputs": [
    {
     "name": "stdout",
     "output_type": "stream",
     "text": [
      "True\n",
      "False\n"
     ]
    }
   ],
   "source": [
    "\"\"\"\n",
    "Question 2\n",
    "\n",
    "Given a string num which represents an integer, return true if num is a strobogrammatic number.\n",
    "\n",
    "A strobogrammatic number is a number that looks the same when rotated 180 degrees (looked at upside down).\n",
    "Example 1:\n",
    "Input: num = \"69\"\n",
    "Output:\n",
    "true\n",
    "\"\"\"\n",
    "\n",
    "def is_strobogrammatic(num):\n",
    "    strob_map = {'0': '0', '1': '1', '6': '9', '8': '8', '9': '6'}\n",
    "    rotated_num = ''\n",
    "    \n",
    "    for i in range(len(num) - 1, -1, -1):\n",
    "        if num[i] not in strob_map:\n",
    "            return False\n",
    "        rotated_num += strob_map[num[i]]\n",
    "    \n",
    "    return rotated_num == num\n",
    "\n",
    "# Example 1\n",
    "num = \"69\"\n",
    "print(is_strobogrammatic(num))\n",
    "\n",
    "# Example 2\n",
    "num = \"09\"\n",
    "print(is_strobogrammatic(num))"
   ]
  },
  {
   "cell_type": "code",
   "execution_count": 17,
   "id": "58b0c18b-344a-41ed-b97f-0b9faed35b68",
   "metadata": {},
   "outputs": [
    {
     "name": "stdout",
     "output_type": "stream",
     "text": [
      "134\n"
     ]
    }
   ],
   "source": [
    "\"\"\"\n",
    "3. Given two non-negative integers, num1 and num2 represented as string, return the sum of num1 and num2 as a string.\n",
    "You must solve the problem without using any built-in library for handling large integers (such as BigInteger). \n",
    "You must also not convert the inputs to integers directly.\n",
    "Example 1:\n",
    "Input: num1 = \"11\", num2 = \"123\"\n",
    "Output:\n",
    "\"134\"\n",
    "\"\"\"\n",
    "\n",
    "def addStrings(num1, num2):\n",
    "    # Initialize pointers for the last digit of each number\n",
    "    i = len(num1) - 1\n",
    "    j = len(num2) - 1\n",
    "    \n",
    "    # Initialize carry and result string\n",
    "    carry = 0\n",
    "    result = \"\"\n",
    "    \n",
    "    # Iterate over the digits from right to left\n",
    "    while i >= 0 or j >= 0 or carry:\n",
    "        # Get the current digit from each number (or 0 if already processed all digits)\n",
    "        digit1 = int(num1[i]) if i >= 0 else 0\n",
    "        digit2 = int(num2[j]) if j >= 0 else 0\n",
    "        \n",
    "        # Compute the sum of the current digits along with the carry\n",
    "        current_sum = digit1 + digit2 + carry\n",
    "        \n",
    "        # Update the carry and the result string\n",
    "        carry = current_sum // 10\n",
    "        result = str(current_sum % 10) + result\n",
    "        \n",
    "        # Move the pointers to the next digit\n",
    "        i -= 1\n",
    "        j -= 1\n",
    "    \n",
    "    return result\n",
    "\n",
    "num1 = \"11\"\n",
    "num2 = \"123\"\n",
    "print(addStrings(num1, num2))\n"
   ]
  },
  {
   "cell_type": "code",
   "execution_count": 22,
   "id": "4d7b712d-0356-49e3-a75f-874039d86946",
   "metadata": {},
   "outputs": [
    {
     "name": "stdout",
     "output_type": "stream",
     "text": [
      "s'teL ekat edoCteeL tsetnoc\n",
      "olleH noruenI knahT uoy\n"
     ]
    }
   ],
   "source": [
    "\"\"\"\n",
    "4. Given a string s, reverse the order of characters in each word within a sentence while still preserving whitespace and initial word order.\n",
    "Example 1:\n",
    "Input: s = \"Let's take LeetCode contest\"\n",
    "Output: \"s'teL ekat edoCteeL tsetnoc\"\n",
    "\"\"\"\n",
    "\n",
    "def reverseWords(s):\n",
    "    # Split the sentence into individual words\n",
    "    words = s.split()\n",
    "    \n",
    "    # Reverse each word in the list\n",
    "    reversed_words = [word[::-1] for word in words]\n",
    "    \n",
    "    # Join the reversed words back into a sentence\n",
    "    reversed_sentence = ' '.join(reversed_words)\n",
    "    \n",
    "    return reversed_sentence\n",
    "\n",
    "s = \"Let's take LeetCode contest\"\n",
    "print(reverseWords(s))\n",
    "\n",
    "s = \"Hello Ineuron Thank you\"\n",
    "print(reverseWords(s))"
   ]
  },
  {
   "cell_type": "code",
   "execution_count": 23,
   "id": "af75ac5e-97fa-4aeb-a120-e13a6f49ee85",
   "metadata": {},
   "outputs": [
    {
     "name": "stdout",
     "output_type": "stream",
     "text": [
      "bacdfeg\n"
     ]
    }
   ],
   "source": [
    "\"\"\"\n",
    "5. Given a string s and an integer k, reverse the first k characters for every 2k characters counting \n",
    "from the start of the string.If there are fewer than k characters left, reverse all of them. \n",
    "If there are less than 2k but greater \n",
    "than or equal to k characters, then reverse the first k characters and leave the other as original.\n",
    "Example 1:\n",
    "Input: s = \"abcdefg\", k = 2\n",
    "Output:\n",
    "\"bacdfeg\"\n",
    "\"\"\"\n",
    "\n",
    "def reverseStr(s, k):\n",
    "    # Convert the string to a list for easy manipulation\n",
    "    s_list = list(s)\n",
    "    \n",
    "    # Iterate over the string in chunks of 2k characters\n",
    "    for i in range(0, len(s_list), 2*k):\n",
    "        # Reverse the first k characters in the chunk\n",
    "        s_list[i:i+k] = reversed(s_list[i:i+k])\n",
    "    \n",
    "    # Convert the list back to a string\n",
    "    reversed_s = ''.join(s_list)\n",
    "    \n",
    "    return reversed_s\n",
    "\n",
    "s = \"abcdefg\"\n",
    "k = 2\n",
    "print(reverseStr(s, k))\n"
   ]
  },
  {
   "cell_type": "code",
   "execution_count": 24,
   "id": "df301aae-4237-4928-898b-216a7642439a",
   "metadata": {},
   "outputs": [
    {
     "name": "stdout",
     "output_type": "stream",
     "text": [
      "True\n"
     ]
    }
   ],
   "source": [
    "\"\"\"\n",
    "6. Given two strings s and goal, return true if and only if s can become goal after some number of shifts on s.\n",
    "A shift on s consists of moving the leftmost character of s to the rightmost position.\n",
    "- For example, if s = \"abcde\", then it will be \"bcdea\" after one shift.\n",
    "Example 1:\n",
    "Input: s = \"abcde\", goal = \"cdeab\"\n",
    "Output:\n",
    "true\n",
    "\"\"\"\n",
    "\n",
    "def canTransform(s, goal):\n",
    "    if len(s) != len(goal):\n",
    "        return False\n",
    "    \n",
    "    # Concatenate s with itself\n",
    "    s_double = s + s\n",
    "    \n",
    "    # Check if goal is a substring of s_double\n",
    "    return goal in s_double\n",
    "\n",
    "s = \"abcde\"\n",
    "goal = \"cdeab\"\n",
    "print(canTransform(s, goal))\n"
   ]
  },
  {
   "cell_type": "code",
   "execution_count": 25,
   "id": "c700c844-dbbd-4bf7-9a4f-28d4deb0b324",
   "metadata": {},
   "outputs": [
    {
     "name": "stdout",
     "output_type": "stream",
     "text": [
      "True\n"
     ]
    }
   ],
   "source": [
    "\"\"\"\n",
    "7. Given two strings s and t, return true if they are equal when both are typed into empty text editors\n",
    "'#' means a backspace character.\n",
    "\n",
    "Note that after backspacing an empty text, the text will continue empty.\n",
    "Example 1:\n",
    "Input: s = \"ab#c\", t = \"ad#c\"\n",
    "Output: true\n",
    "Explanation:\n",
    "Both s and t become \"ac\".\n",
    "\"\"\"\n",
    "\n",
    "def processString(string):\n",
    "    stack = []\n",
    "    for char in string:\n",
    "        if char == '#':\n",
    "            if stack:\n",
    "                stack.pop()\n",
    "        else:\n",
    "            stack.append(char)\n",
    "    return ''.join(stack)\n",
    "\n",
    "def backspaceCompare(s, t):\n",
    "    processed_s = processString(s)\n",
    "    processed_t = processString(t)\n",
    "    return processed_s == processed_t\n",
    "\n",
    "s = \"ab#c\"\n",
    "t = \"ad#c\"\n",
    "print(backspaceCompare(s, t))\n"
   ]
  },
  {
   "cell_type": "code",
   "execution_count": 26,
   "id": "f87fbaf1-0e56-4371-857b-5f10205d5a27",
   "metadata": {},
   "outputs": [
    {
     "name": "stdout",
     "output_type": "stream",
     "text": [
      "True\n"
     ]
    }
   ],
   "source": [
    "\"\"\"\n",
    "8. You are given an array coordinates, coordinates[i] = [x, y], where [x, y] represents \n",
    "the coordinate of a point. Check if these points make a straight line in the XY plane.\n",
    "Example 1:\n",
    "Input: coordinates = [[1,2],[2,3],[3,4],[4,5],[5,6],[6,7]]\n",
    "Output: true\n",
    "\"\"\"\n",
    "\n",
    "def checkStraightLine(coordinates):\n",
    "    if len(coordinates) <= 2:\n",
    "        return True\n",
    "    \n",
    "    x0, y0 = coordinates[0]\n",
    "    x1, y1 = coordinates[1]\n",
    "    \n",
    "    for i in range(2, len(coordinates)):\n",
    "        x, y = coordinates[i]\n",
    "        \n",
    "        # Calculate the slope between the current point and the first point\n",
    "        if (y1 - y0) * (x - x0) != (y - y0) * (x1 - x0):\n",
    "            return False\n",
    "        \n",
    "    return True\n",
    "\n",
    "coordinates = [[1,2],[2,3],[3,4],[4,5],[5,6],[6,7]]\n",
    "print(checkStraightLine(coordinates))\n"
   ]
  },
  {
   "cell_type": "code",
   "execution_count": null,
   "id": "3618bffc-1ed4-42ca-83f5-2933721869df",
   "metadata": {},
   "outputs": [],
   "source": []
  }
 ],
 "metadata": {
  "kernelspec": {
   "display_name": "Python 3 (ipykernel)",
   "language": "python",
   "name": "python3"
  },
  "language_info": {
   "codemirror_mode": {
    "name": "ipython",
    "version": 3
   },
   "file_extension": ".py",
   "mimetype": "text/x-python",
   "name": "python",
   "nbconvert_exporter": "python",
   "pygments_lexer": "ipython3",
   "version": "3.10.6"
  }
 },
 "nbformat": 4,
 "nbformat_minor": 5
}

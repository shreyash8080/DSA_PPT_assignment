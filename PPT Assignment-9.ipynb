{
 "cells": [
  {
   "cell_type": "code",
   "execution_count": 16,
   "id": "40786e94-f4cb-4a31-9dfa-99a7f1e3aa5a",
   "metadata": {},
   "outputs": [
    {
     "name": "stdout",
     "output_type": "stream",
     "text": [
      "True\n",
      "True\n",
      "False\n"
     ]
    }
   ],
   "source": [
    "\"\"\"\n",
    "1. Given an integer `n`, return `true` if it is a power of two. Otherwise, return `false`.\n",
    "An integer `n` is a power of two, if there exists an integer `x` such that `n == 2x`.\n",
    "\n",
    "Example 1:\n",
    "Input: n = 1 \n",
    "Output: true\n",
    "\n",
    "Example 2:\n",
    "Input: n = 16 \n",
    "Output: true\n",
    "\n",
    "Example 3:\n",
    "Input: n = 3 \n",
    "Output: false\n",
    "\"\"\"\n",
    "\n",
    "def isPowerOfTwo(n):\n",
    "    if n <= 0:\n",
    "        return False\n",
    "\n",
    "    while n % 2 == 0:\n",
    "        n /= 2\n",
    "\n",
    "    return n == 1\n",
    "\n",
    "print(isPowerOfTwo(1)) \n",
    "print(isPowerOfTwo(16))  \n",
    "print(isPowerOfTwo(3))  \n"
   ]
  },
  {
   "cell_type": "code",
   "execution_count": 17,
   "id": "6e61a6e2-9926-4a05-8d94-b1cc8ed7d89f",
   "metadata": {},
   "outputs": [
    {
     "name": "stdout",
     "output_type": "stream",
     "text": [
      "[1, 2, 3]\n",
      "The sum of [1, 2, 3], 3 natural numbers is 6\n",
      "[1, 2, 3, 4, 5]\n",
      "The sum of [1, 2, 3, 4, 5], 5 natural numbers is 15\n"
     ]
    }
   ],
   "source": [
    "\"\"\"\n",
    "2. Given a number n, find the sum of the first natural numbers.\n",
    "Example 1:\n",
    "Input: n = 3 \n",
    "Output: 6\n",
    "\n",
    "Example 2:\n",
    "Input  : 5 \n",
    "Output : 15\n",
    "\"\"\"\n",
    "\n",
    "def sum_natural_numbers(num=1) :\n",
    "    \n",
    "    total = []\n",
    "    for i in range(1,num+1) :\n",
    "        total.append(i)\n",
    "    \n",
    "    print(total)\n",
    "    print(f\"The sum of {total}, {num} natural numbers is {sum(total)}\")\n",
    "\n",
    "# Example 1\n",
    "# Input: n = 3 \n",
    "# Output: 6\n",
    "sum_natural_numbers(3)\n",
    "\n",
    "#Example 2:\n",
    "#Input  : 5 \n",
    "#Output : 15\n",
    "sum_natural_numbers(5)"
   ]
  },
  {
   "cell_type": "code",
   "execution_count": 31,
   "id": "8d17e288-3a53-4c07-b5cf-c23303937cb8",
   "metadata": {},
   "outputs": [
    {
     "name": "stdout",
     "output_type": "stream",
     "text": [
      "The Factorial of 5 is : 120 \n",
      "The Factorial of 4 is : 24 \n"
     ]
    }
   ],
   "source": [
    "\"\"\"\n",
    "3. Given a positive integer, N. Find the factorial of N. \n",
    "\n",
    "Example 1\n",
    "Input: N = 5 \n",
    "Output: 120\n",
    "\n",
    "Example 2\n",
    "Input: N = 4\n",
    "Output: 24\n",
    "\"\"\"\n",
    "\n",
    "def factorial(N=1):\n",
    "    result = 1\n",
    "\n",
    "    for i in range(1, N + 1):\n",
    "        result *= i\n",
    "\n",
    "    return result\n",
    "\n",
    "# Example 1       \n",
    "print(f\"The Factorial of 5 is : {factorial(5)} \")\n",
    "\n",
    "# Example 2\n",
    "print(f\"The Factorial of 4 is : {factorial(4)} \")"
   ]
  },
  {
   "cell_type": "code",
   "execution_count": 40,
   "id": "c4114a8c-54ed-4523-ae73-717929a76a47",
   "metadata": {},
   "outputs": [
    {
     "name": "stdout",
     "output_type": "stream",
     "text": [
      "The Base is 5 \n",
      "The Exponent is 2 \n",
      "The power of N^P is 25\n",
      "The Base is 2 \n",
      "The Exponent is 5 \n",
      "The power of N^P is 32\n",
      "--------------------------------------------------------------------------------\n",
      "The Base is 5 \n",
      "The Exponent is 2 \n",
      "The power of N^P is 25\n",
      "The Base is 2 \n",
      "The Exponent is 5 \n",
      "The power of N^P is 32\n"
     ]
    }
   ],
   "source": [
    "\"\"\"\n",
    "4. Given a number N and a power P, the task is to find the exponent of this number raised to the given power,\n",
    "i.e. N^P.\n",
    "\n",
    "Example 1 : \n",
    "Input: N = 5, P = 2\n",
    "Output: 25\n",
    "\n",
    "Example 2 :\n",
    "Input: N = 2, P = 5\n",
    "Output: 32\n",
    "\"\"\"\n",
    "\n",
    "# Method 1\n",
    "def power(N = 1, P = 1) :\n",
    "    \n",
    "    a = pow(N,P)\n",
    "    print(f\"The Base is {N} \\nThe Exponent is {P} \\nThe power of N^P is {a}\")\n",
    "\n",
    "# Example 1\n",
    "# Input: N = 5, P = 2\n",
    "power(5,2)\n",
    "\n",
    "# Example 2\n",
    "# Input: N = 2, P = 5\n",
    "power(2,5)\n",
    "\n",
    "print(\"-\"*80)\n",
    "\n",
    "# Method 2\n",
    "\n",
    "def power(N=1,P=1) :\n",
    "    \n",
    "    a = []\n",
    "    a.append(N**P)\n",
    "    print(f\"The Base is {N} \\nThe Exponent is {P} \\nThe power of N^P is {a[0]}\")\n",
    "    \n",
    "# Example 1\n",
    "# Input: N = 5, P = 2\n",
    "power(5,2)\n",
    "\n",
    "# Example 2\n",
    "# Input: N = 2, P = 5\n",
    "power(2,5)"
   ]
  },
  {
   "cell_type": "code",
   "execution_count": 41,
   "id": "bf055a15-f7bd-4689-992a-e795bccf0433",
   "metadata": {},
   "outputs": [
    {
     "name": "stdout",
     "output_type": "stream",
     "text": [
      "8\n",
      "45\n"
     ]
    }
   ],
   "source": [
    "\"\"\"\n",
    "5. Given an array of integers arr the task is to find maximum element of that array using recursion.\n",
    "Example 1:\n",
    "Input: arr = {1, 4, 3, -5, -4, 8, 6};\n",
    "Output: 8\n",
    "\n",
    "Example 2:\n",
    "Input: arr = {1, 4, 45, 6, 10, -8};\n",
    "Output: 45\n",
    "\"\"\"\n",
    "\n",
    "def findMax(arr, start, end):\n",
    "    # Base case: if there is only one element\n",
    "    if start == end:\n",
    "        return arr[start]\n",
    "\n",
    "    # Recursive case: divide the array into two halves\n",
    "    mid = (start + end) // 2\n",
    "    max_left = findMax(arr, start, mid)\n",
    "    max_right = findMax(arr, mid + 1, end)\n",
    "\n",
    "    # Compare the maximum elements of the two halves\n",
    "    return max(max_left, max_right)\n",
    "\n",
    "# Example 1\n",
    "arr1 = [1, 4, 3, -5, -4, 8, 6]\n",
    "print(findMax(arr1, 0, len(arr1) - 1))  \n",
    "\n",
    "# Example 2\n",
    "arr2 = [1, 4, 45, 6, 10, -8]\n",
    "print(findMax(arr2, 0, len(arr2) - 1))  \n"
   ]
  },
  {
   "cell_type": "code",
   "execution_count": 42,
   "id": "a7f3d90a-332e-429e-95b3-dfdf0155eb86",
   "metadata": {},
   "outputs": [
    {
     "name": "stdout",
     "output_type": "stream",
     "text": [
      "6\n",
      "23\n"
     ]
    }
   ],
   "source": [
    "\"\"\"\n",
    "6. Given first term (a), common difference (d) and a integer N of the Arithmetic Progression series,\n",
    "the task is to find Nth term of the series.\n",
    "\n",
    "Example 1:\n",
    "Input : a = 2 d = 1 N = 5\n",
    "Output : 6\n",
    "The 5th term of the series is : 6\n",
    "\n",
    "Example 2:\n",
    "Input : a = 5 d = 2 N = 10\n",
    "Output : 23\n",
    "The 10th term of the series is : 23\n",
    "\"\"\"\n",
    "\n",
    "def findNthTerm(a, d, N):\n",
    "    return a + (N - 1) * d\n",
    "\n",
    "print(findNthTerm(2, 1, 5))  \n",
    "print(findNthTerm(5, 2, 10))  \n"
   ]
  },
  {
   "cell_type": "code",
   "execution_count": 47,
   "id": "04cdb3a3-37ec-4975-91ba-a1b88eb4c0ed",
   "metadata": {},
   "outputs": [
    {
     "name": "stdout",
     "output_type": "stream",
     "text": [
      "['ABC', 'ACB', 'BAC', 'BCA', 'CBA', 'CAB']\n",
      "['XY', 'YX']\n"
     ]
    }
   ],
   "source": [
    "\"\"\"\n",
    "7. Given a string S, the task is to write a program to print all permutations of a given string.\n",
    "Example 1:\n",
    "Input: S = “ABC”\n",
    "Output: “ABC”, “ACB”, “BAC”, “BCA”, “CBA”, “CAB”\n",
    "\n",
    "Example 2:\n",
    "Input: S = “XY”\n",
    "Output: “XY”, “YX”\n",
    "\"\"\"\n",
    "\n",
    "def permute(S, l, r, result):\n",
    "    if l == r:\n",
    "        result.append(\"\".join(S))\n",
    "    else:\n",
    "        for i in range(l, r + 1):\n",
    "            S[l], S[i] = S[i], S[l]  # Swap characters\n",
    "            permute(S, l + 1, r, result)  # Recursive call\n",
    "            S[l], S[i] = S[i], S[l]  # Revert the swap\n",
    "\n",
    "\n",
    "def getPermutations(S):\n",
    "    n = len(S)\n",
    "    result = []\n",
    "    permute(list(S), 0, n - 1, result)\n",
    "    return result\n",
    "\n",
    "\n",
    "# Testing the function\n",
    "permutations1 = getPermutations(\"ABC\")\n",
    "print(permutations1)\n",
    "\n",
    "permutations2 = getPermutations(\"XY\")\n",
    "print(permutations2)\n"
   ]
  },
  {
   "cell_type": "code",
   "execution_count": 60,
   "id": "af1c1bf8-6855-445d-a371-5c2c7dd30373",
   "metadata": {},
   "outputs": [
    {
     "name": "stdout",
     "output_type": "stream",
     "text": [
      "The product of {1, 2, 3, 4, 5} is : 120 \n",
      "The product of {1, 3, 6} is : 18 \n"
     ]
    }
   ],
   "source": [
    "\"\"\"\n",
    "8. Given an array, find a product of all array elements.\n",
    "Example 1:\n",
    "Input  : arr[] = {1, 2, 3, 4, 5}\n",
    "Output : 120\n",
    "\n",
    "Example 2:\n",
    "Input  : arr[] = {1, 6, 3}\n",
    "Output : 18\n",
    "\"\"\"\n",
    "\n",
    "def product(array = 1) :\n",
    "    \n",
    "    result = 1\n",
    "    \n",
    "    for i in array:\n",
    "        result = result * i\n",
    "    \n",
    "    print(f\"The product of {array} is : {result} \")\n",
    "\n",
    "# Example 1\n",
    "array1 = {1,2,3,4,5}\n",
    "product(array1)\n",
    "\n",
    "# Example 2\n",
    "array2 = {1, 6, 3}\n",
    "product(array2)"
   ]
  },
  {
   "cell_type": "code",
   "execution_count": null,
   "id": "a302309a-2643-48f3-8402-519f696e2b05",
   "metadata": {},
   "outputs": [],
   "source": [
    "\n"
   ]
  }
 ],
 "metadata": {
  "kernelspec": {
   "display_name": "Python 3 (ipykernel)",
   "language": "python",
   "name": "python3"
  },
  "language_info": {
   "codemirror_mode": {
    "name": "ipython",
    "version": 3
   },
   "file_extension": ".py",
   "mimetype": "text/x-python",
   "name": "python",
   "nbconvert_exporter": "python",
   "pygments_lexer": "ipython3",
   "version": "3.10.6"
  }
 },
 "nbformat": 4,
 "nbformat_minor": 5
}
